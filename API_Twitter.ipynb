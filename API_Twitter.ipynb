{
  "nbformat": 4,
  "nbformat_minor": 0,
  "metadata": {
    "colab": {
      "name": "API_Twitter.ipynb",
      "provenance": [],
      "collapsed_sections": [
        "k3Ii2TbMQxR7"
      ],
      "authorship_tag": "ABX9TyMItB9paiuzBHOHkExlQTWK",
      "include_colab_link": true
    },
    "kernelspec": {
      "name": "python3",
      "display_name": "Python 3"
    },
    "language_info": {
      "name": "python"
    }
  },
  "cells": [
    {
      "cell_type": "markdown",
      "metadata": {
        "id": "view-in-github",
        "colab_type": "text"
      },
      "source": [
        "<a href=\"https://colab.research.google.com/github/alicesbarros/NetworkAnalysis_TwitterAPI/blob/main/API_Twitter.ipynb\" target=\"_parent\"><img src=\"https://colab.research.google.com/assets/colab-badge.svg\" alt=\"Open In Colab\"/></a>"
      ]
    },
    {
      "cell_type": "markdown",
      "source": [
        "## Analisando API do Twitter\n",
        "Disciplina: Análise de Redes\n",
        "\n",
        "Estudante: Alice Soares Pereira de Barros"
      ],
      "metadata": {
        "id": "mHXbmlpgHMtF"
      }
    },
    {
      "cell_type": "markdown",
      "source": [
        "Parte do conteúdo deste Google Colaboratory são baseados nos ministrados em aula e no Google Colaboratory da Aula 8, pelo professor Ivanovitch Silva."
      ],
      "metadata": {
        "id": "7cT7lEV0McOw"
      }
    },
    {
      "cell_type": "markdown",
      "source": [
        "#### Autenticação com a API do Twitter"
      ],
      "metadata": {
        "id": "AjqCDO5bH7Jv"
      }
    },
    {
      "cell_type": "markdown",
      "source": [
        "##### Instalando o Pacote Twython, para a autenticação."
      ],
      "metadata": {
        "id": "k3Ii2TbMQxR7"
      }
    },
    {
      "cell_type": "code",
      "execution_count": 1,
      "metadata": {
        "id": "wxYE2xzcEi21",
        "colab": {
          "base_uri": "https://localhost:8080/"
        },
        "outputId": "afd89aba-4b05-4288-f74e-3657ed7ee6e4"
      },
      "outputs": [
        {
          "output_type": "stream",
          "name": "stdout",
          "text": [
            "Requirement already satisfied: Twython in /usr/local/lib/python3.7/dist-packages (3.9.1)\n",
            "Requirement already satisfied: requests>=2.1.0 in /usr/local/lib/python3.7/dist-packages (from Twython) (2.23.0)\n",
            "Requirement already satisfied: requests-oauthlib>=0.4.0 in /usr/local/lib/python3.7/dist-packages (from Twython) (1.3.1)\n",
            "Requirement already satisfied: urllib3!=1.25.0,!=1.25.1,<1.26,>=1.21.1 in /usr/local/lib/python3.7/dist-packages (from requests>=2.1.0->Twython) (1.24.3)\n",
            "Requirement already satisfied: certifi>=2017.4.17 in /usr/local/lib/python3.7/dist-packages (from requests>=2.1.0->Twython) (2021.10.8)\n",
            "Requirement already satisfied: idna<3,>=2.5 in /usr/local/lib/python3.7/dist-packages (from requests>=2.1.0->Twython) (2.10)\n",
            "Requirement already satisfied: chardet<4,>=3.0.2 in /usr/local/lib/python3.7/dist-packages (from requests>=2.1.0->Twython) (3.0.4)\n",
            "Requirement already satisfied: oauthlib>=3.0.0 in /usr/local/lib/python3.7/dist-packages (from requests-oauthlib>=0.4.0->Twython) (3.2.0)\n"
          ]
        }
      ],
      "source": [
        "!pip install Twython"
      ]
    },
    {
      "cell_type": "code",
      "source": [
        "from twython import Twython, TwythonError"
      ],
      "metadata": {
        "id": "eelk5E1GILzA"
      },
      "execution_count": 2,
      "outputs": []
    },
    {
      "cell_type": "markdown",
      "source": [
        "##### Inserindo as informações do aplicativo e obtendo a autorização do URL "
      ],
      "metadata": {
        "id": "ajmnglfMIQ1d"
      }
    },
    {
      "cell_type": "markdown",
      "source": [
        "Para autenticar com o Twitter, é preciso fornecer os detalhes do aplicativo e pedir por uma autorizaçao URL do tipo one-time para a autenticação do usuário com o aplicativo."
      ],
      "metadata": {
        "id": "ehtBepMaIzeI"
      }
    },
    {
      "cell_type": "code",
      "source": [
        "# Abrindo o arquivo onde estão as chaves da API para leitura:\n",
        "rkive = open(\"keys.txt\", \"r\")\n",
        "\n",
        "# Lendo os dados do arquivo:\n",
        "chaves = rkive.read()\n",
        "\n",
        "# Separando as linhas dentro do arquivo pelo caracter \"\\n\" (espaço para uma nova linha)\n",
        "API_KEY, API_SECRET_KEY = chaves.split(\"\\n\")\n",
        "\n",
        "# Fechando o arquivo 'rkive':\n",
        "rkive.close()"
      ],
      "metadata": {
        "id": "zHMPokb3IOE6"
      },
      "execution_count": 22,
      "outputs": []
    },
    {
      "cell_type": "markdown",
      "source": [
        "Em seguida, vamos usar o Twython para imprimir um URL clicável, que é um link único e só poderemos usar uma vez, visto que ele vai nos direcionar para o PIN de verificação, que será fornecido e usado para as próximas execuções."
      ],
      "metadata": {
        "id": "97nwnq79LB1P"
      }
    },
    {
      "cell_type": "code",
      "source": [
        "twt_API = Twython(API_KEY, API_SECRET_KEY)\n",
        "\n",
        "tokens_autenticacao = twt_API.get_authentication_tokens()\n",
        "print(tokens_autenticacao['auth_url'])"
      ],
      "metadata": {
        "id": "btX_Cj75K_Ac",
        "colab": {
          "base_uri": "https://localhost:8080/"
        },
        "outputId": "a42726f1-1db2-4e52-c95b-bdda19872ada"
      },
      "execution_count": 23,
      "outputs": [
        {
          "output_type": "stream",
          "name": "stdout",
          "text": [
            "https://api.twitter.com/oauth/authenticate?oauth_token=O6vLiwAAAAABYoMUAAABfuBmkus\n"
          ]
        }
      ]
    },
    {
      "cell_type": "markdown",
      "source": [
        "##### Autorizando o aplicativo com o PIN de verificação, obtido no URL clicável acima:"
      ],
      "metadata": {
        "id": "06VTRapRNYd7"
      }
    },
    {
      "cell_type": "code",
      "source": [
        "# Usar o PIN que foi fornecido no link acima.\n",
        "PIN = '7363820'\n",
        "\n",
        "API_twt = Twython(API_KEY, API_SECRET_KEY, \n",
        "                  tokens_autenticacao['oauth_token'], \n",
        "                  tokens_autenticacao['oauth_token_secret'])\n",
        "\n",
        "tokens_autorizados = API_twt.get_authorized_tokens(PIN)"
      ],
      "metadata": {
        "id": "9CWmETsqM72W"
      },
      "execution_count": 24,
      "outputs": []
    },
    {
      "cell_type": "markdown",
      "source": [
        "##### ...\n",
        "Verificando as credenciais do usuário logado."
      ],
      "metadata": {
        "id": "r4_5i0pMPA8T"
      }
    },
    {
      "cell_type": "code",
      "source": [
        "twitterAPI = Twython(API_KEY, API_SECRET_KEY, \n",
        "                  tokens_autorizados['oauth_token'], \n",
        "                  tokens_autorizados['oauth_token_secret'])\n",
        "\n",
        "twitterAPI.verify_credentials()"
      ],
      "metadata": {
        "id": "YC9Z1qGuO7pp",
        "colab": {
          "base_uri": "https://localhost:8080/"
        },
        "outputId": "edd9d6cf-e7d6-4d01-eca6-9c7c467d4d88"
      },
      "execution_count": 25,
      "outputs": [
        {
          "output_type": "execute_result",
          "data": {
            "text/plain": [
              "{'contributors_enabled': False,\n",
              " 'created_at': 'Fri Jan 28 23:01:21 +0000 2022',\n",
              " 'default_profile': True,\n",
              " 'default_profile_image': False,\n",
              " 'description': '',\n",
              " 'entities': {'description': {'urls': []}},\n",
              " 'favourites_count': 0,\n",
              " 'follow_request_sent': False,\n",
              " 'followers_count': 0,\n",
              " 'following': False,\n",
              " 'friends_count': 1,\n",
              " 'geo_enabled': False,\n",
              " 'has_extended_profile': True,\n",
              " 'id': 1487198891766333451,\n",
              " 'id_str': '1487198891766333451',\n",
              " 'is_translation_enabled': False,\n",
              " 'is_translator': False,\n",
              " 'lang': None,\n",
              " 'listed_count': 0,\n",
              " 'location': '',\n",
              " 'name': 'Alice',\n",
              " 'needs_phone_verification': False,\n",
              " 'notifications': False,\n",
              " 'profile_background_color': 'F5F8FA',\n",
              " 'profile_background_image_url': None,\n",
              " 'profile_background_image_url_https': None,\n",
              " 'profile_background_tile': False,\n",
              " 'profile_image_url': 'http://pbs.twimg.com/profile_images/1487200270459322373/W7mpQd0f_normal.jpg',\n",
              " 'profile_image_url_https': 'https://pbs.twimg.com/profile_images/1487200270459322373/W7mpQd0f_normal.jpg',\n",
              " 'profile_link_color': '1DA1F2',\n",
              " 'profile_sidebar_border_color': 'C0DEED',\n",
              " 'profile_sidebar_fill_color': 'DDEEF6',\n",
              " 'profile_text_color': '333333',\n",
              " 'profile_use_background_image': True,\n",
              " 'protected': False,\n",
              " 'screen_name': 'alicebarrosUF',\n",
              " 'status': {'contributors': None,\n",
              "  'coordinates': None,\n",
              "  'created_at': 'Sun Feb 06 14:23:31 +0000 2022',\n",
              "  'entities': {'hashtags': [], 'symbols': [], 'urls': [], 'user_mentions': []},\n",
              "  'favorite_count': 0,\n",
              "  'favorited': False,\n",
              "  'geo': None,\n",
              "  'id': 1490330320226467841,\n",
              "  'id_str': '1490330320226467841',\n",
              "  'in_reply_to_screen_name': None,\n",
              "  'in_reply_to_status_id': None,\n",
              "  'in_reply_to_status_id_str': None,\n",
              "  'in_reply_to_user_id': None,\n",
              "  'in_reply_to_user_id_str': None,\n",
              "  'is_quote_status': False,\n",
              "  'lang': 'und',\n",
              "  'place': None,\n",
              "  'retweet_count': 0,\n",
              "  'retweeted': False,\n",
              "  'source': '<a href=\"https://mobile.twitter.com\" rel=\"nofollow\">Twitter Web App</a>',\n",
              "  'text': 'Olá!',\n",
              "  'truncated': False},\n",
              " 'statuses_count': 1,\n",
              " 'suspended': False,\n",
              " 'time_zone': None,\n",
              " 'translator_type': 'none',\n",
              " 'url': None,\n",
              " 'utc_offset': None,\n",
              " 'verified': False,\n",
              " 'withheld_in_countries': []}"
            ]
          },
          "metadata": {},
          "execution_count": 25
        }
      ]
    },
    {
      "cell_type": "markdown",
      "source": [
        "#### TWITTER API"
      ],
      "metadata": {
        "id": "K5VaP8WAP-0X"
      }
    },
    {
      "cell_type": "code",
      "source": [
        "# Buscando dados do user da Juliette:\n",
        "usuario = twt_API.show_user(screen_name='juliette')\n",
        "usuario\n",
        "\n",
        "#OR maybe 'btschartdata' \n",
        "# user_ = twitter_API.show_user(screen_name='btschartdata')\n",
        "# user_"
      ],
      "metadata": {
        "colab": {
          "base_uri": "https://localhost:8080/"
        },
        "id": "YgQvgGPJQcFk",
        "outputId": "f1e6eff1-7182-40d8-98e2-b8f7434402fb"
      },
      "execution_count": 35,
      "outputs": [
        {
          "output_type": "execute_result",
          "data": {
            "text/plain": [
              "{'contributors_enabled': False,\n",
              " 'created_at': 'Mon Jan 18 15:27:39 +0000 2021',\n",
              " 'default_profile': True,\n",
              " 'default_profile_image': False,\n",
              " 'description': 'ouça agora UN RATITO',\n",
              " 'entities': {'description': {'urls': []},\n",
              "  'url': {'urls': [{'display_url': 'umusicplay.lnk.to/iFa2U5r3TW',\n",
              "     'expanded_url': 'https://umusicplay.lnk.to/iFa2U5r3TW',\n",
              "     'indices': [0, 23],\n",
              "     'url': 'https://t.co/GA038g8c1t'}]}},\n",
              " 'favourites_count': 23731,\n",
              " 'follow_request_sent': None,\n",
              " 'followers_count': 4847191,\n",
              " 'following': None,\n",
              " 'friends_count': 4131,\n",
              " 'geo_enabled': True,\n",
              " 'has_extended_profile': True,\n",
              " 'id': 1351188841558913025,\n",
              " 'id_str': '1351188841558913025',\n",
              " 'is_translation_enabled': False,\n",
              " 'is_translator': False,\n",
              " 'lang': None,\n",
              " 'listed_count': 1283,\n",
              " 'location': 'Paraíba, Brasil',\n",
              " 'name': 'Juliette',\n",
              " 'notifications': None,\n",
              " 'profile_background_color': 'F5F8FA',\n",
              " 'profile_background_image_url': None,\n",
              " 'profile_background_image_url_https': None,\n",
              " 'profile_background_tile': False,\n",
              " 'profile_banner_url': 'https://pbs.twimg.com/profile_banners/1351188841558913025/1642129725',\n",
              " 'profile_image_url': 'http://pbs.twimg.com/profile_images/1482001735652675584/Qim357rs_normal.jpg',\n",
              " 'profile_image_url_https': 'https://pbs.twimg.com/profile_images/1482001735652675584/Qim357rs_normal.jpg',\n",
              " 'profile_link_color': '1DA1F2',\n",
              " 'profile_location': None,\n",
              " 'profile_sidebar_border_color': 'C0DEED',\n",
              " 'profile_sidebar_fill_color': 'DDEEF6',\n",
              " 'profile_text_color': '333333',\n",
              " 'profile_use_background_image': True,\n",
              " 'protected': False,\n",
              " 'screen_name': 'juliette',\n",
              " 'status': {'contributors': None,\n",
              "  'coordinates': None,\n",
              "  'created_at': 'Wed Feb 09 21:54:37 +0000 2022',\n",
              "  'entities': {'hashtags': [], 'symbols': [], 'urls': [], 'user_mentions': []},\n",
              "  'favorite_count': 5009,\n",
              "  'favorited': False,\n",
              "  'geo': None,\n",
              "  'id': 1491531005890605061,\n",
              "  'id_str': '1491531005890605061',\n",
              "  'in_reply_to_screen_name': None,\n",
              "  'in_reply_to_status_id': None,\n",
              "  'in_reply_to_status_id_str': None,\n",
              "  'in_reply_to_user_id': None,\n",
              "  'in_reply_to_user_id_str': None,\n",
              "  'is_quote_status': False,\n",
              "  'lang': 'pt',\n",
              "  'place': None,\n",
              "  'retweet_count': 396,\n",
              "  'retweeted': False,\n",
              "  'source': '<a href=\"http://twitter.com/download/android\" rel=\"nofollow\">Twitter for Android</a>',\n",
              "  'text': 'Oiii, bbs. Tô aquiiiiii! Tava com dor de cabeça... tomei um remédio e deitei. Vcs me amam, né?! Eu tbem ❤',\n",
              "  'truncated': False},\n",
              " 'statuses_count': 19395,\n",
              " 'time_zone': None,\n",
              " 'translator_type': 'none',\n",
              " 'url': 'https://t.co/GA038g8c1t',\n",
              " 'utc_offset': None,\n",
              " 'verified': True,\n",
              " 'withheld_in_countries': []}"
            ]
          },
          "metadata": {},
          "execution_count": 35
        }
      ]
    },
    {
      "cell_type": "markdown",
      "source": [
        "##### Os dados de usuários obtidos contém informações interessantes, como número de seguidores ('followers'), número de pessoas que o usuário está seguindo ('friends'), número de tweets e retweets ('statuses')."
      ],
      "metadata": {
        "id": "ajJxxNBLSDsx"
      }
    },
    {
      "cell_type": "code",
      "source": [
        "#Exemplo:\n",
        "print(\"\"\"\n",
        "Este usuário do Twitter @{screen_name} tem \n",
        "{followers_count} seguidores, segue {friends_count} usuários\n",
        "e fez {statuses_count} tweets e retweets (juntos).\n",
        "  \"\"\".format(**usuario))"
      ],
      "metadata": {
        "colab": {
          "base_uri": "https://localhost:8080/"
        },
        "id": "xTo22eaJR4O8",
        "outputId": "d23ff79e-6cc7-49f7-e5e2-744e6c6521b1"
      },
      "execution_count": 36,
      "outputs": [
        {
          "output_type": "stream",
          "name": "stdout",
          "text": [
            "\n",
            "Este usuário do Twitter @juliette tem \n",
            "4847191 seguidores, segue 4131 usuários\n",
            "e fez 19395 tweets e retweets (juntos).\n",
            "  \n"
          ]
        }
      ]
    },
    {
      "cell_type": "markdown",
      "source": [
        "##### Antes de seguirmos, sabemos que temos algumas limitações para o uso da API do Twitter, e é possível visualizar essas limitações usando 'get_application_rate_limit_status()'"
      ],
      "metadata": {
        "id": "pk922myRSHoh"
      }
    },
    {
      "cell_type": "code",
      "source": [
        "twitterAPI.get_application_rate_limit_status()['resources']"
      ],
      "metadata": {
        "colab": {
          "base_uri": "https://localhost:8080/"
        },
        "id": "or0lmgvUSK__",
        "outputId": "84a42d14-9817-4af3-efcc-838b21dd472d"
      },
      "execution_count": 37,
      "outputs": [
        {
          "output_type": "execute_result",
          "data": {
            "text/plain": [
              "{'account': {'/account/authenticate_web_view': {'limit': 50,\n",
              "   'remaining': 50,\n",
              "   'reset': 1644446660},\n",
              "  '/account/change_password': {'limit': 15,\n",
              "   'remaining': 15,\n",
              "   'reset': 1644446660},\n",
              "  '/account/login_verification_enrollment': {'limit': 15,\n",
              "   'remaining': 15,\n",
              "   'reset': 1644446660},\n",
              "  '/account/settings': {'limit': 15, 'remaining': 15, 'reset': 1644446660},\n",
              "  '/account/update_profile': {'limit': 15,\n",
              "   'remaining': 15,\n",
              "   'reset': 1644446660},\n",
              "  '/account/verify_credentials': {'limit': 75,\n",
              "   'remaining': 75,\n",
              "   'reset': 1644446660}},\n",
              " 'account_activity': {'/account_activity/all/:instance_name/subscriptions': {'limit': 500,\n",
              "   'remaining': 500,\n",
              "   'reset': 1644446660},\n",
              "  '/account_activity/all/:instance_name/webhooks': {'limit': 15,\n",
              "   'remaining': 15,\n",
              "   'reset': 1644446660},\n",
              "  '/account_activity/all/webhooks': {'limit': 15,\n",
              "   'remaining': 15,\n",
              "   'reset': 1644446660},\n",
              "  '/account_activity/direct_messages/:instance_name/subscriptions': {'limit': 15,\n",
              "   'remaining': 15,\n",
              "   'reset': 1644446660},\n",
              "  '/account_activity/direct_messages/:instance_name/webhooks': {'limit': 15,\n",
              "   'remaining': 15,\n",
              "   'reset': 1644446660},\n",
              "  '/account_activity/direct_messages/webhooks': {'limit': 15,\n",
              "   'remaining': 15,\n",
              "   'reset': 1644446660},\n",
              "  '/account_activity/webhooks': {'limit': 15,\n",
              "   'remaining': 15,\n",
              "   'reset': 1644446660},\n",
              "  '/account_activity/webhooks/:id/subscriptions': {'limit': 500,\n",
              "   'remaining': 500,\n",
              "   'reset': 1644446660},\n",
              "  '/account_activity/webhooks/:id/subscriptions/all': {'limit': 500,\n",
              "   'remaining': 500,\n",
              "   'reset': 1644446660},\n",
              "  '/account_activity/webhooks/:id/subscriptions/all/list': {'limit': 15,\n",
              "   'remaining': 15,\n",
              "   'reset': 1644446660},\n",
              "  '/account_activity/webhooks/:id/subscriptions/direct_messages': {'limit': 500,\n",
              "   'remaining': 500,\n",
              "   'reset': 1644446660},\n",
              "  '/account_activity/webhooks/:id/subscriptions/direct_messages/list': {'limit': 15,\n",
              "   'remaining': 15,\n",
              "   'reset': 1644446660}},\n",
              " 'admin_users': {'/admin_users': {'limit': 2000,\n",
              "   'remaining': 2000,\n",
              "   'reset': 1644446660}},\n",
              " 'application': {'/application/rate_limit_status': {'limit': 180,\n",
              "   'remaining': 180,\n",
              "   'reset': 1644446660}},\n",
              " 'auth': {'/auth/csrf_token': {'limit': 15,\n",
              "   'remaining': 15,\n",
              "   'reset': 1644446660}},\n",
              " 'blocks': {'/blocks/ids': {'limit': 15, 'remaining': 15, 'reset': 1644446660},\n",
              "  '/blocks/list': {'limit': 15, 'remaining': 15, 'reset': 1644446660}},\n",
              " 'business_experience': {'/business_experience/dashboard_features': {'limit': 450,\n",
              "   'remaining': 450,\n",
              "   'reset': 1644446660},\n",
              "  '/business_experience/dashboard_settings/destroy': {'limit': 450,\n",
              "   'remaining': 450,\n",
              "   'reset': 1644446660},\n",
              "  '/business_experience/dashboard_settings/show': {'limit': 450,\n",
              "   'remaining': 450,\n",
              "   'reset': 1644446660},\n",
              "  '/business_experience/dashboard_settings/update': {'limit': 450,\n",
              "   'remaining': 450,\n",
              "   'reset': 1644446660},\n",
              "  '/business_experience/keywords': {'limit': 450,\n",
              "   'remaining': 450,\n",
              "   'reset': 1644446660}},\n",
              " 'collections': {'/collections/entries': {'limit': 1000,\n",
              "   'remaining': 1000,\n",
              "   'reset': 1644446660},\n",
              "  '/collections/list': {'limit': 1000, 'remaining': 1000, 'reset': 1644446660},\n",
              "  '/collections/show': {'limit': 1000,\n",
              "   'remaining': 1000,\n",
              "   'reset': 1644446660}},\n",
              " 'compliance': {'/compliance/jobs&GET': {'limit': 150,\n",
              "   'remaining': 150,\n",
              "   'reset': 1644446660},\n",
              "  '/compliance/jobs&POST': {'limit': 150,\n",
              "   'remaining': 150,\n",
              "   'reset': 1644446660},\n",
              "  '/compliance/jobs/:job_id': {'limit': 150,\n",
              "   'remaining': 150,\n",
              "   'reset': 1644446660}},\n",
              " 'contacts': {'/contacts/addressbook': {'limit': 300,\n",
              "   'remaining': 300,\n",
              "   'reset': 1644446660},\n",
              "  '/contacts/delete/status': {'limit': 300,\n",
              "   'remaining': 300,\n",
              "   'reset': 1644446660},\n",
              "  '/contacts/uploaded_by': {'limit': 300,\n",
              "   'remaining': 300,\n",
              "   'reset': 1644446660},\n",
              "  '/contacts/users': {'limit': 300, 'remaining': 300, 'reset': 1644446660},\n",
              "  '/contacts/users_and_uploaded_by': {'limit': 300,\n",
              "   'remaining': 300,\n",
              "   'reset': 1644446660}},\n",
              " 'custom_profiles': {'/custom_profiles/list': {'limit': 180,\n",
              "   'remaining': 180,\n",
              "   'reset': 1644446660},\n",
              "  '/custom_profiles/show': {'limit': 180,\n",
              "   'remaining': 180,\n",
              "   'reset': 1644446660}},\n",
              " 'device': {'/device/token': {'limit': 15,\n",
              "   'remaining': 15,\n",
              "   'reset': 1644446660}},\n",
              " 'direct_messages': {'/direct_messages': {'limit': 300,\n",
              "   'remaining': 300,\n",
              "   'reset': 1644446660},\n",
              "  '/direct_messages/broadcasts/list': {'limit': 60,\n",
              "   'remaining': 60,\n",
              "   'reset': 1644446660},\n",
              "  '/direct_messages/broadcasts/show': {'limit': 60,\n",
              "   'remaining': 60,\n",
              "   'reset': 1644446660},\n",
              "  '/direct_messages/broadcasts/statuses/list': {'limit': 60,\n",
              "   'remaining': 60,\n",
              "   'reset': 1644446660},\n",
              "  '/direct_messages/broadcasts/statuses/show': {'limit': 60,\n",
              "   'remaining': 60,\n",
              "   'reset': 1644446660},\n",
              "  '/direct_messages/events/list': {'limit': 15,\n",
              "   'remaining': 15,\n",
              "   'reset': 1644446660},\n",
              "  '/direct_messages/events/show': {'limit': 15,\n",
              "   'remaining': 15,\n",
              "   'reset': 1644446660},\n",
              "  '/direct_messages/mark_read': {'limit': 1000,\n",
              "   'remaining': 1000,\n",
              "   'reset': 1644446660},\n",
              "  '/direct_messages/sent': {'limit': 300,\n",
              "   'remaining': 300,\n",
              "   'reset': 1644446660},\n",
              "  '/direct_messages/sent_and_received': {'limit': 300,\n",
              "   'remaining': 300,\n",
              "   'reset': 1644446660},\n",
              "  '/direct_messages/show': {'limit': 300,\n",
              "   'remaining': 300,\n",
              "   'reset': 1644446660},\n",
              "  '/direct_messages/subscribers/ids': {'limit': 180,\n",
              "   'remaining': 180,\n",
              "   'reset': 1644446660},\n",
              "  '/direct_messages/subscribers/lists/list': {'limit': 180,\n",
              "   'remaining': 180,\n",
              "   'reset': 1644446660},\n",
              "  '/direct_messages/subscribers/lists/members/ids': {'limit': 180,\n",
              "   'remaining': 180,\n",
              "   'reset': 1644446660},\n",
              "  '/direct_messages/subscribers/lists/members/show': {'limit': 1000,\n",
              "   'remaining': 1000,\n",
              "   'reset': 1644446660},\n",
              "  '/direct_messages/subscribers/lists/show': {'limit': 180,\n",
              "   'remaining': 180,\n",
              "   'reset': 1644446660},\n",
              "  '/direct_messages/subscribers/show': {'limit': 180,\n",
              "   'remaining': 180,\n",
              "   'reset': 1644446660}},\n",
              " 'drafts': {'/drafts/statuses/create': {'limit': 450,\n",
              "   'remaining': 450,\n",
              "   'reset': 1644446660},\n",
              "  '/drafts/statuses/destroy': {'limit': 450,\n",
              "   'remaining': 450,\n",
              "   'reset': 1644446660},\n",
              "  '/drafts/statuses/ids': {'limit': 450,\n",
              "   'remaining': 450,\n",
              "   'reset': 1644446660},\n",
              "  '/drafts/statuses/list': {'limit': 450,\n",
              "   'remaining': 450,\n",
              "   'reset': 1644446660},\n",
              "  '/drafts/statuses/show': {'limit': 450,\n",
              "   'remaining': 450,\n",
              "   'reset': 1644446660},\n",
              "  '/drafts/statuses/update': {'limit': 450,\n",
              "   'remaining': 450,\n",
              "   'reset': 1644446660}},\n",
              " 'favorites': {'/favorites/list': {'limit': 75,\n",
              "   'remaining': 75,\n",
              "   'reset': 1644446660}},\n",
              " 'feedback': {'/feedback/events': {'limit': 1000,\n",
              "   'remaining': 1000,\n",
              "   'reset': 1644446660},\n",
              "  '/feedback/show/:id': {'limit': 180, 'remaining': 180, 'reset': 1644446660}},\n",
              " 'fleets': {'/fleets/:version/avatar_content': {'limit': 100,\n",
              "   'remaining': 100,\n",
              "   'reset': 1644446660},\n",
              "  '/fleets/:version/create': {'limit': 50,\n",
              "   'remaining': 50,\n",
              "   'reset': 1644446660},\n",
              "  '/fleets/:version/delete': {'limit': 50,\n",
              "   'remaining': 50,\n",
              "   'reset': 1644446660},\n",
              "  '/fleets/:version/feedback/create': {'limit': 500,\n",
              "   'remaining': 500,\n",
              "   'reset': 1644446660},\n",
              "  '/fleets/:version/fleet_threads': {'limit': 1000,\n",
              "   'remaining': 1000,\n",
              "   'reset': 1644446660},\n",
              "  '/fleets/:version/fleetline': {'limit': 100,\n",
              "   'remaining': 100,\n",
              "   'reset': 1644446660},\n",
              "  '/fleets/:version/home_timeline': {'limit': 100,\n",
              "   'remaining': 100,\n",
              "   'reset': 1644446660},\n",
              "  '/fleets/:version/mark_read': {'limit': 1000,\n",
              "   'remaining': 1000,\n",
              "   'reset': 1644446660},\n",
              "  '/fleets/:version/mutes/create': {'limit': 100,\n",
              "   'remaining': 100,\n",
              "   'reset': 1644446660},\n",
              "  '/fleets/:version/mutes/destroy': {'limit': 100,\n",
              "   'remaining': 100,\n",
              "   'reset': 1644446660},\n",
              "  '/fleets/:version/mutes/list': {'limit': 100,\n",
              "   'remaining': 100,\n",
              "   'reset': 1644446660},\n",
              "  '/fleets/:version/track_events': {'limit': 100,\n",
              "   'remaining': 100,\n",
              "   'reset': 1644446660},\n",
              "  '/fleets/:version/update': {'limit': 50,\n",
              "   'remaining': 50,\n",
              "   'reset': 1644446660},\n",
              "  '/fleets/:version/user_fleets': {'limit': 180,\n",
              "   'remaining': 180,\n",
              "   'reset': 1644446660},\n",
              "  '/fleets/:version/viewers': {'limit': 100,\n",
              "   'remaining': 100,\n",
              "   'reset': 1644446660}},\n",
              " 'followers': {'/followers/ids': {'limit': 15,\n",
              "   'remaining': 15,\n",
              "   'reset': 1644446660},\n",
              "  '/followers/list': {'limit': 15, 'remaining': 15, 'reset': 1644446660}},\n",
              " 'friends': {'/friends/following/ids': {'limit': 15,\n",
              "   'remaining': 15,\n",
              "   'reset': 1644446660},\n",
              "  '/friends/following/list': {'limit': 15,\n",
              "   'remaining': 15,\n",
              "   'reset': 1644446660},\n",
              "  '/friends/ids': {'limit': 15, 'remaining': 15, 'reset': 1644446660},\n",
              "  '/friends/list': {'limit': 15, 'remaining': 15, 'reset': 1644446660}},\n",
              " 'friendships': {'/friendships/incoming': {'limit': 15,\n",
              "   'remaining': 15,\n",
              "   'reset': 1644446660},\n",
              "  '/friendships/list': {'limit': 200, 'remaining': 200, 'reset': 1644446660},\n",
              "  '/friendships/lookup': {'limit': 15, 'remaining': 15, 'reset': 1644446660},\n",
              "  '/friendships/no_retweets/ids': {'limit': 15,\n",
              "   'remaining': 15,\n",
              "   'reset': 1644446660},\n",
              "  '/friendships/outgoing': {'limit': 15, 'remaining': 15, 'reset': 1644446660},\n",
              "  '/friendships/show': {'limit': 180, 'remaining': 180, 'reset': 1644446660}},\n",
              " 'geo': {'/geo/id/:place_id': {'limit': 75,\n",
              "   'remaining': 75,\n",
              "   'reset': 1644446660},\n",
              "  '/geo/place_page': {'limit': 75, 'remaining': 75, 'reset': 1644446660},\n",
              "  '/geo/reverse_geocode': {'limit': 15, 'remaining': 15, 'reset': 1644446660},\n",
              "  '/geo/search': {'limit': 15, 'remaining': 15, 'reset': 1644446660},\n",
              "  '/geo/similar_places': {'limit': 15, 'remaining': 15, 'reset': 1644446660}},\n",
              " 'graphql': {'/graphql': {'limit': 15, 'remaining': 15, 'reset': 1644446660}},\n",
              " 'graphql&POST': {'/graphql&POST': {'limit': 15,\n",
              "   'remaining': 15,\n",
              "   'reset': 1644446660}},\n",
              " 'guide': {'/guide': {'limit': 180, 'remaining': 180, 'reset': 1644446660},\n",
              "  '/guide/explore_locations_with_autocomplete': {'limit': 200,\n",
              "   'remaining': 200,\n",
              "   'reset': 1644446660},\n",
              "  '/guide/get_explore_locations': {'limit': 100,\n",
              "   'remaining': 100,\n",
              "   'reset': 1644446660}},\n",
              " 'help': {'/help/configuration': {'limit': 15,\n",
              "   'remaining': 15,\n",
              "   'reset': 1644446660},\n",
              "  '/help/languages': {'limit': 15, 'remaining': 15, 'reset': 1644446660},\n",
              "  '/help/privacy': {'limit': 15, 'remaining': 15, 'reset': 1644446660},\n",
              "  '/help/settings': {'limit': 15, 'remaining': 15, 'reset': 1644446660},\n",
              "  '/help/tos': {'limit': 15, 'remaining': 15, 'reset': 1644446660}},\n",
              " 'i': {'/i/config': {'limit': 15, 'remaining': 15, 'reset': 1644446660},\n",
              "  '/i/tfb/v1/smb/web/:account_id/payment/save': {'limit': 15,\n",
              "   'remaining': 15,\n",
              "   'reset': 1644446660}},\n",
              " 'labs': {'/labs/2/platform_manipulation/reports': {'limit': 5,\n",
              "   'remaining': 5,\n",
              "   'reset': 1644446660},\n",
              "  '/labs/2/reports': {'limit': 5, 'remaining': 5, 'reset': 1644446660},\n",
              "  '/labs/:version/tweets/*': {'limit': 900,\n",
              "   'remaining': 900,\n",
              "   'reset': 1644446660},\n",
              "  '/labs/:version/tweets/:id/hidden&PUT': {'limit': 10,\n",
              "   'remaining': 10,\n",
              "   'reset': 1644446660},\n",
              "  '/labs/:version/tweets/metrics/private': {'limit': 15,\n",
              "   'remaining': 15,\n",
              "   'reset': 1644446660},\n",
              "  '/labs/:version/tweets/search': {'limit': 225,\n",
              "   'remaining': 225,\n",
              "   'reset': 1644446660},\n",
              "  '/labs/:version/tweets/stream/compliance': {'limit': 500,\n",
              "   'remaining': 500,\n",
              "   'reset': 1644446660},\n",
              "  '/labs/:version/tweets/stream/filter/': {'limit': 50,\n",
              "   'remaining': 50,\n",
              "   'reset': 1644446660},\n",
              "  '/labs/:version/tweets/stream/filter/:instance_name': {'limit': 50,\n",
              "   'remaining': 50,\n",
              "   'reset': 1644446660},\n",
              "  '/labs/:version/tweets/stream/filter/rules&POST': {'limit': 450,\n",
              "   'remaining': 450,\n",
              "   'reset': 1644446660},\n",
              "  '/labs/:version/tweets/stream/filter/rules/': {'limit': 450,\n",
              "   'remaining': 450,\n",
              "   'reset': 1644446660},\n",
              "  '/labs/:version/tweets/stream/filter/rules/:instance_name': {'limit': 450,\n",
              "   'remaining': 450,\n",
              "   'reset': 1644446660},\n",
              "  '/labs/:version/tweets/stream/sample': {'limit': 50,\n",
              "   'remaining': 50,\n",
              "   'reset': 1644446660},\n",
              "  '/labs/:version/users/*': {'limit': 900,\n",
              "   'remaining': 900,\n",
              "   'reset': 1644446660},\n",
              "  '/labs/:version/users/:id/tweets': {'limit': 225,\n",
              "   'remaining': 225,\n",
              "   'reset': 1644446660},\n",
              "  '/labs/:version/users/by/username/:handle/tweets': {'limit': 225,\n",
              "   'remaining': 225,\n",
              "   'reset': 1644446660}},\n",
              " 'limiter_scalding_report_creation': {'/limiter_scalding_report_creation': {'limit': 4500,\n",
              "   'remaining': 4500,\n",
              "   'reset': 1644446660}},\n",
              " 'lists': {'/lists/:id&DELETE': {'limit': 300,\n",
              "   'remaining': 300,\n",
              "   'reset': 1644446660},\n",
              "  '/lists/:id&GET': {'limit': 75, 'remaining': 75, 'reset': 1644446660},\n",
              "  '/lists/:id&PUT': {'limit': 300, 'remaining': 300, 'reset': 1644446660},\n",
              "  '/lists/:id/followers&GET': {'limit': 180,\n",
              "   'remaining': 180,\n",
              "   'reset': 1644446660},\n",
              "  '/lists/:id/members&GET': {'limit': 900,\n",
              "   'remaining': 900,\n",
              "   'reset': 1644446660},\n",
              "  '/lists/:id/members&POST': {'limit': 300,\n",
              "   'remaining': 300,\n",
              "   'reset': 1644446660},\n",
              "  '/lists/:id/members/:user_id&DELETE': {'limit': 300,\n",
              "   'remaining': 300,\n",
              "   'reset': 1644446660},\n",
              "  '/lists/:id/tweets&GET': {'limit': 900,\n",
              "   'remaining': 900,\n",
              "   'reset': 1644446660},\n",
              "  '/lists/list': {'limit': 15, 'remaining': 15, 'reset': 1644446660},\n",
              "  '/lists/members': {'limit': 900, 'remaining': 900, 'reset': 1644446660},\n",
              "  '/lists/members/show': {'limit': 15, 'remaining': 15, 'reset': 1644446660},\n",
              "  '/lists/memberships': {'limit': 75, 'remaining': 75, 'reset': 1644446660},\n",
              "  '/lists/ownerships': {'limit': 15, 'remaining': 15, 'reset': 1644446660},\n",
              "  '/lists/show': {'limit': 75, 'remaining': 75, 'reset': 1644446660},\n",
              "  '/lists/statuses': {'limit': 900, 'remaining': 900, 'reset': 1644446660},\n",
              "  '/lists/subscribers': {'limit': 180, 'remaining': 180, 'reset': 1644446660},\n",
              "  '/lists/subscribers/show': {'limit': 15,\n",
              "   'remaining': 15,\n",
              "   'reset': 1644446660},\n",
              "  '/lists/subscriptions': {'limit': 15, 'remaining': 15, 'reset': 1644446660}},\n",
              " 'lists&POST': {'/lists&POST': {'limit': 300,\n",
              "   'remaining': 300,\n",
              "   'reset': 1644446660}},\n",
              " 'live_pipeline': {'/live_pipeline/events': {'limit': 180,\n",
              "   'remaining': 180,\n",
              "   'reset': 1644446660}},\n",
              " 'live_video_stream': {'/live_video_stream/status/:id': {'limit': 1000,\n",
              "   'remaining': 1000,\n",
              "   'reset': 1644446660}},\n",
              " 'media': {'/media/upload': {'limit': 500,\n",
              "   'remaining': 500,\n",
              "   'reset': 1644446660}},\n",
              " 'moments': {'/moments/create': {'limit': 15,\n",
              "   'remaining': 15,\n",
              "   'reset': 1644446660},\n",
              "  '/moments/permissions': {'limit': 300,\n",
              "   'remaining': 300,\n",
              "   'reset': 1644446660},\n",
              "  '/moments/statuses/update': {'limit': 5,\n",
              "   'remaining': 5,\n",
              "   'reset': 1644446660}},\n",
              " 'mutes': {'/mutes/users/ids': {'limit': 15,\n",
              "   'remaining': 15,\n",
              "   'reset': 1644446660},\n",
              "  '/mutes/users/list': {'limit': 15, 'remaining': 15, 'reset': 1644446660}},\n",
              " 'oauth': {'/oauth/invalidate_token': {'limit': 450,\n",
              "   'remaining': 450,\n",
              "   'reset': 1644446660},\n",
              "  '/oauth/revoke': {'limit': 15, 'remaining': 15, 'reset': 1644446660},\n",
              "  '/oauth/revoke_html': {'limit': 15, 'remaining': 15, 'reset': 1644446660}},\n",
              " 'paseto': {'/paseto/token': {'limit': 100,\n",
              "   'remaining': 100,\n",
              "   'reset': 1644446660}},\n",
              " 'permissions': {'/permissions/user_permissions': {'limit': 3,\n",
              "   'remaining': 3,\n",
              "   'reset': 1644446660},\n",
              "  '/permissions/user_permissions/admin_email_verification': {'limit': 3,\n",
              "   'remaining': 3,\n",
              "   'reset': 1644446660}},\n",
              " 'safety': {'/safety/detection_feedback': {'limit': 450000,\n",
              "   'remaining': 450000,\n",
              "   'reset': 1644446660}},\n",
              " 'sandbox': {'/sandbox/account_activity/webhooks/:id/subscriptions': {'limit': 500,\n",
              "   'remaining': 500,\n",
              "   'reset': 1644446660}},\n",
              " 'saved_searches': {'/saved_searches/destroy/:id': {'limit': 15,\n",
              "   'remaining': 15,\n",
              "   'reset': 1644446660},\n",
              "  '/saved_searches/list': {'limit': 15, 'remaining': 15, 'reset': 1644446660},\n",
              "  '/saved_searches/show/:id': {'limit': 15,\n",
              "   'remaining': 15,\n",
              "   'reset': 1644446660}},\n",
              " 'search': {'/search/tweets': {'limit': 180,\n",
              "   'remaining': 180,\n",
              "   'reset': 1644446660}},\n",
              " 'statuses': {'/statuses/friends': {'limit': 15,\n",
              "   'remaining': 15,\n",
              "   'reset': 1644446660},\n",
              "  '/statuses/home_timeline': {'limit': 15,\n",
              "   'remaining': 15,\n",
              "   'reset': 1644446660},\n",
              "  '/statuses/lookup': {'limit': 900, 'remaining': 900, 'reset': 1644446660},\n",
              "  '/statuses/mentions_timeline': {'limit': 75,\n",
              "   'remaining': 75,\n",
              "   'reset': 1644446660},\n",
              "  '/statuses/oembed': {'limit': 180, 'remaining': 180, 'reset': 1644446660},\n",
              "  '/statuses/retweeters/ids': {'limit': 75,\n",
              "   'remaining': 75,\n",
              "   'reset': 1644446660},\n",
              "  '/statuses/retweets/:id': {'limit': 75,\n",
              "   'remaining': 75,\n",
              "   'reset': 1644446660},\n",
              "  '/statuses/retweets_of_me': {'limit': 75,\n",
              "   'remaining': 75,\n",
              "   'reset': 1644446660},\n",
              "  '/statuses/show/:id': {'limit': 900, 'remaining': 900, 'reset': 1644446660},\n",
              "  '/statuses/user_timeline': {'limit': 900,\n",
              "   'remaining': 900,\n",
              "   'reset': 1644446660}},\n",
              " 'strato': {'/strato/column/None/:id/cms/*': {'limit': 150,\n",
              "   'remaining': 150,\n",
              "   'reset': 1644446660}},\n",
              " 'teams': {'/teams/authorize': {'limit': 15,\n",
              "   'remaining': 15,\n",
              "   'reset': 1644446660}},\n",
              " 'traffic': {'/traffic/map': {'limit': 15,\n",
              "   'remaining': 15,\n",
              "   'reset': 1644446660}},\n",
              " 'trends': {'/trends/available': {'limit': 75,\n",
              "   'remaining': 75,\n",
              "   'reset': 1644446660},\n",
              "  '/trends/closest': {'limit': 75, 'remaining': 75, 'reset': 1644446660},\n",
              "  '/trends/place': {'limit': 75, 'remaining': 75, 'reset': 1644446660}},\n",
              " 'tweet_prompts': {'/tweet_prompts/report_interaction': {'limit': 180,\n",
              "   'remaining': 180,\n",
              "   'reset': 1644446660},\n",
              "  '/tweet_prompts/show': {'limit': 180,\n",
              "   'remaining': 180,\n",
              "   'reset': 1644446660}},\n",
              " 'tweets': {'/tweets/': {'limit': 900, 'remaining': 900, 'reset': 1644446660},\n",
              "  '/tweets/:id': {'limit': 900, 'remaining': 900, 'reset': 1644446660},\n",
              "  '/tweets/:id&DELETE': {'limit': 50, 'remaining': 50, 'reset': 1644446660},\n",
              "  '/tweets/:id/hidden&PUT': {'limit': 50,\n",
              "   'remaining': 50,\n",
              "   'reset': 1644446660},\n",
              "  '/tweets/:id/retweeted_by': {'limit': 75,\n",
              "   'remaining': 75,\n",
              "   'reset': 1644446660},\n",
              "  '/tweets/:tweet_id/liking_users': {'limit': 75,\n",
              "   'remaining': 75,\n",
              "   'reset': 1644446660},\n",
              "  '/tweets/counts/all': {'limit': 900, 'remaining': 900, 'reset': 1644446660},\n",
              "  '/tweets/counts/recent': {'limit': 900,\n",
              "   'remaining': 900,\n",
              "   'reset': 1644446660},\n",
              "  '/tweets/sample/stream': {'limit': 50, 'remaining': 50, 'reset': 1644446660},\n",
              "  '/tweets/search/:product/:instance/counts': {'limit': 900,\n",
              "   'remaining': 900,\n",
              "   'reset': 1644446660},\n",
              "  '/tweets/search/:product/:label': {'limit': 1800,\n",
              "   'remaining': 1800,\n",
              "   'reset': 1644446660},\n",
              "  '/tweets/search/all': {'limit': 900, 'remaining': 900, 'reset': 1644446660},\n",
              "  '/tweets/search/recent': {'limit': 180,\n",
              "   'remaining': 180,\n",
              "   'reset': 1644446660},\n",
              "  '/tweets/search/stream': {'limit': 50, 'remaining': 50, 'reset': 1644446660},\n",
              "  '/tweets/search/stream/rules': {'limit': 450,\n",
              "   'remaining': 450,\n",
              "   'reset': 1644446660},\n",
              "  '/tweets/search/stream/rules&DELETE': {'limit': 450,\n",
              "   'remaining': 450,\n",
              "   'reset': 1644446660},\n",
              "  '/tweets/search/stream/rules&POST': {'limit': 450,\n",
              "   'remaining': 450,\n",
              "   'reset': 1644446660},\n",
              "  '/tweets/search/stream/rules/validation&POST': {'limit': 450,\n",
              "   'remaining': 450,\n",
              "   'reset': 1644446660}},\n",
              " 'tweets&POST': {'/tweets&POST': {'limit': 200,\n",
              "   'remaining': 200,\n",
              "   'reset': 1644446660}},\n",
              " 'users': {'/users/': {'limit': 900, 'remaining': 900, 'reset': 1644446660},\n",
              "  '/users/:id': {'limit': 900, 'remaining': 900, 'reset': 1644446660},\n",
              "  '/users/:id/blocking': {'limit': 15, 'remaining': 15, 'reset': 1644446660},\n",
              "  '/users/:id/blocking&POST': {'limit': 50,\n",
              "   'remaining': 50,\n",
              "   'reset': 1644446660},\n",
              "  '/users/:id/followed_lists&GET': {'limit': 15,\n",
              "   'remaining': 15,\n",
              "   'reset': 1644446660},\n",
              "  '/users/:id/followed_lists&POST': {'limit': 50,\n",
              "   'remaining': 50,\n",
              "   'reset': 1644446660},\n",
              "  '/users/:id/followed_lists/:list_id&DELETE': {'limit': 50,\n",
              "   'remaining': 50,\n",
              "   'reset': 1644446660},\n",
              "  '/users/:id/followers': {'limit': 15, 'remaining': 15, 'reset': 1644446660},\n",
              "  '/users/:id/following': {'limit': 15, 'remaining': 15, 'reset': 1644446660},\n",
              "  '/users/:id/liked_tweets': {'limit': 75,\n",
              "   'remaining': 75,\n",
              "   'reset': 1644446660},\n",
              "  '/users/:id/likes&POST': {'limit': 50, 'remaining': 50, 'reset': 1644446660},\n",
              "  '/users/:id/likes/:tweet_id&DELETE': {'limit': 50,\n",
              "   'remaining': 50,\n",
              "   'reset': 1644446660},\n",
              "  '/users/:id/list_memberships&GET': {'limit': 75,\n",
              "   'remaining': 75,\n",
              "   'reset': 1644446660},\n",
              "  '/users/:id/mentions': {'limit': 180, 'remaining': 180, 'reset': 1644446660},\n",
              "  '/users/:id/muting': {'limit': 15, 'remaining': 15, 'reset': 1644446660},\n",
              "  '/users/:id/muting&POST': {'limit': 50,\n",
              "   'remaining': 50,\n",
              "   'reset': 1644446660},\n",
              "  '/users/:id/owned_lists&GET': {'limit': 15,\n",
              "   'remaining': 15,\n",
              "   'reset': 1644446660},\n",
              "  '/users/:id/pinned_lists&GET': {'limit': 15,\n",
              "   'remaining': 15,\n",
              "   'reset': 1644446660},\n",
              "  '/users/:id/pinned_lists&POST': {'limit': 50,\n",
              "   'remaining': 50,\n",
              "   'reset': 1644446660},\n",
              "  '/users/:id/pinned_lists/:list_id&DELETE': {'limit': 50,\n",
              "   'remaining': 50,\n",
              "   'reset': 1644446660},\n",
              "  '/users/:id/retweets&POST': {'limit': 50,\n",
              "   'remaining': 50,\n",
              "   'reset': 1644446660},\n",
              "  '/users/:id/retweets/:source_tweet_id&DELETE': {'limit': 50,\n",
              "   'remaining': 50,\n",
              "   'reset': 1644446660},\n",
              "  '/users/:id/tweets': {'limit': 900, 'remaining': 900, 'reset': 1644446660},\n",
              "  '/users/:source_user_id/blocking/:target_user_id&DELETE': {'limit': 50,\n",
              "   'remaining': 50,\n",
              "   'reset': 1644446660},\n",
              "  '/users/:source_user_id/following&POST': {'limit': 50,\n",
              "   'remaining': 50,\n",
              "   'reset': 1644446660},\n",
              "  '/users/:source_user_id/following/:target_user_id&DELETE': {'limit': 50,\n",
              "   'remaining': 50,\n",
              "   'reset': 1644446660},\n",
              "  '/users/:source_user_id/muting/:target_user_id&DELETE': {'limit': 50,\n",
              "   'remaining': 50,\n",
              "   'reset': 1644446660},\n",
              "  '/users/by': {'limit': 900, 'remaining': 900, 'reset': 1644446660},\n",
              "  '/users/by/username/:handle/mentions': {'limit': 180,\n",
              "   'remaining': 180,\n",
              "   'reset': 1644446660},\n",
              "  '/users/by/username/:handle/tweets': {'limit': 900,\n",
              "   'remaining': 900,\n",
              "   'reset': 1644446660},\n",
              "  '/users/by/username/:source_username/following&POST': {'limit': 50,\n",
              "   'remaining': 50,\n",
              "   'reset': 1644446660},\n",
              "  '/users/by/username/:source_username/following/:target_user_name&DELETE': {'limit': 50,\n",
              "   'remaining': 50,\n",
              "   'reset': 1644446660},\n",
              "  '/users/by/username/:username': {'limit': 900,\n",
              "   'remaining': 900,\n",
              "   'reset': 1644446660},\n",
              "  '/users/by/username/:username/followers': {'limit': 15,\n",
              "   'remaining': 15,\n",
              "   'reset': 1644446660},\n",
              "  '/users/by/username/:username/following': {'limit': 15,\n",
              "   'remaining': 15,\n",
              "   'reset': 1644446660},\n",
              "  '/users/contributees/pending': {'limit': 200,\n",
              "   'remaining': 200,\n",
              "   'reset': 1644446660},\n",
              "  '/users/contributors/pending': {'limit': 2000,\n",
              "   'remaining': 2000,\n",
              "   'reset': 1644446660},\n",
              "  '/users/derived_info': {'limit': 15, 'remaining': 15, 'reset': 1644446660},\n",
              "  '/users/lookup': {'limit': 900, 'remaining': 900, 'reset': 1644446660},\n",
              "  '/users/profile_banner': {'limit': 180,\n",
              "   'remaining': 180,\n",
              "   'reset': 1644446660},\n",
              "  '/users/report_spam': {'limit': 15, 'remaining': 15, 'reset': 1644446660},\n",
              "  '/users/search': {'limit': 900, 'remaining': 900, 'reset': 1644446660},\n",
              "  '/users/show/:id': {'limit': 900, 'remaining': 900, 'reset': 1644446660},\n",
              "  '/users/suggestions': {'limit': 15, 'remaining': 15, 'reset': 1644446660},\n",
              "  '/users/suggestions/:slug': {'limit': 15,\n",
              "   'remaining': 15,\n",
              "   'reset': 1644446660},\n",
              "  '/users/suggestions/:slug/members': {'limit': 15,\n",
              "   'remaining': 15,\n",
              "   'reset': 1644446660}},\n",
              " 'verify': {'/verify/:version/access': {'limit': 15,\n",
              "   'remaining': 15,\n",
              "   'reset': 1644446660},\n",
              "  '/verify/:version/account-eligibility': {'limit': 15,\n",
              "   'remaining': 15,\n",
              "   'reset': 1644446660},\n",
              "  '/verify/:version/badge-violation': {'limit': 15,\n",
              "   'remaining': 15,\n",
              "   'reset': 1644446660},\n",
              "  '/verify/:version/badge-violation/violations': {'limit': 15,\n",
              "   'remaining': 15,\n",
              "   'reset': 1644446660},\n",
              "  '/verify/:version/document-formats': {'limit': 15,\n",
              "   'remaining': 15,\n",
              "   'reset': 1644446660},\n",
              "  '/verify/:version/id-document&GET': {'limit': 1000,\n",
              "   'remaining': 1000,\n",
              "   'reset': 1644446660},\n",
              "  '/verify/:version/id-document&POST': {'limit': 15,\n",
              "   'remaining': 15,\n",
              "   'reset': 1644446660},\n",
              "  '/verify/:version/intake': {'limit': 15,\n",
              "   'remaining': 15,\n",
              "   'reset': 1644446660}},\n",
              " 'webhooks': {'/webhooks': {'limit': 15, 'remaining': 15, 'reset': 1644446660},\n",
              "  '/webhooks/subscriptions/direct_messages': {'limit': 15,\n",
              "   'remaining': 15,\n",
              "   'reset': 1644446660}}}"
            ]
          },
          "metadata": {},
          "execution_count": 37
        }
      ]
    },
    {
      "cell_type": "code",
      "source": [
        "twitterAPI.get_application_rate_limit_status()['resources']['friends']"
      ],
      "metadata": {
        "colab": {
          "base_uri": "https://localhost:8080/"
        },
        "id": "3ZlgKHwzbFuK",
        "outputId": "0a583c1d-4ce3-442f-a18f-e4526550d4d0"
      },
      "execution_count": 45,
      "outputs": [
        {
          "output_type": "execute_result",
          "data": {
            "text/plain": [
              "{'/friends/following/ids': {'limit': 15, 'remaining': 15, 'reset': 1644447379},\n",
              " '/friends/following/list': {'limit': 15,\n",
              "  'remaining': 15,\n",
              "  'reset': 1644447379},\n",
              " '/friends/ids': {'limit': 15, 'remaining': 15, 'reset': 1644447379},\n",
              " '/friends/list': {'limit': 15, 'remaining': 15, 'reset': 1644447379}}"
            ]
          },
          "metadata": {},
          "execution_count": 45
        }
      ]
    },
    {
      "cell_type": "markdown",
      "source": [
        ""
      ],
      "metadata": {
        "id": "LKcBIBtaj8RA"
      }
    },
    {
      "cell_type": "code",
      "source": [
        "# Durante o processo, o user 'juliette' estava com 4847191 seguidores.\n",
        "# Como só é possível recuperar, no máximo, 200 * 15 seguidores em \n",
        "# uma chamada e, considerando que só é permitido 15 chamadas durante \n",
        "# um intervalo de 15 minutos, vai ser necessário (4847191/(200*15))\n",
        "# -> 1616 chamadas para coletar todos os seguidores de Juliette.\n",
        "# 1616 chamadas * 15 minutos = 24240 minutos.\n",
        "\n",
        "4847191/(200*15)"
      ],
      "metadata": {
        "colab": {
          "base_uri": "https://localhost:8080/"
        },
        "id": "sPwkgncUj9Vb",
        "outputId": "aeb5a13f-ca3f-459c-f214-5d4e94f2db13"
      },
      "execution_count": 44,
      "outputs": [
        {
          "output_type": "execute_result",
          "data": {
            "text/plain": [
              "1615.7303333333334"
            ]
          },
          "metadata": {},
          "execution_count": 44
        }
      ]
    },
    {
      "cell_type": "code",
      "source": [
        "# Durante o processo, o user 'juliette' estava seguindo 4131 usuários.\n",
        "# Como só é possível recuperar, no máximo, 200 * 15 usuários em \n",
        "# uma chamada e, considerando que só é permitido 15 chamadas durante \n",
        "# um intervalo de 15 minutos, vai ser necessário (4131/(200*15))\n",
        "# -> 2 chamadas para coletar todos os usuários que Juliette segue.\n",
        "# 2 chamadas * 15 minutos = 30 minutos.\n",
        "\n",
        "4131/(200*15)"
      ],
      "metadata": {
        "colab": {
          "base_uri": "https://localhost:8080/"
        },
        "id": "iTHVQddQoS7O",
        "outputId": "e6667b3a-e9e8-452b-c2b9-119dec016011"
      },
      "execution_count": 40,
      "outputs": [
        {
          "output_type": "execute_result",
          "data": {
            "text/plain": [
              "1.377"
            ]
          },
          "metadata": {},
          "execution_count": 40
        }
      ]
    },
    {
      "cell_type": "markdown",
      "source": [
        ".................."
      ],
      "metadata": {
        "id": "kxZoowSCblEH"
      }
    },
    {
      "cell_type": "code",
      "source": [
        "import datetime\n",
        "import pandas as pd\n",
        "\n",
        "# Para cada uma das características do usuário, serão criadas listas vazias\n",
        "nomes = []\n",
        "nomes_usuarios = []\n",
        "ids = []\n",
        "localizacao = []\n",
        "contagem_seguidores = []\n",
        "\n",
        "#Obtendo a data de hoje\n",
        "datestamp = datetime.datetime.now().strftime(\"%Y-%m-%d\")\n",
        "\n",
        "# \n",
        "BTS_username = 'BTS_twt'\n",
        "\n",
        "#\n",
        "next_cursor = -1"
      ],
      "metadata": {
        "id": "-hM1tau-cPub"
      },
      "execution_count": null,
      "outputs": []
    }
  ]
}